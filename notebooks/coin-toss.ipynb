{
 "cells": [
  {
   "cell_type": "markdown",
   "id": "ddd59cd7-ab44-4025-b25b-ff1ff06e8f60",
   "metadata": {},
   "source": [
    "### The coin"
   ]
  },
  {
   "cell_type": "code",
   "execution_count": 1,
   "id": "8269bf26-6c1e-4e61-96ca-91eaac1e729d",
   "metadata": {},
   "outputs": [],
   "source": [
    "from models.coin import Coin, CoinToss\n",
    "\n",
    "probability_of_heads = 0.02\n",
    "\n",
    "coin1 = Coin( p = probability_of_heads )"
   ]
  },
  {
   "cell_type": "markdown",
   "id": "ae3cd4ea-0ee0-4d6d-a4e6-dc47b20c124e",
   "metadata": {},
   "source": [
    "### The toss\n"
   ]
  },
  {
   "cell_type": "code",
   "execution_count": 2,
   "id": "ef2e8cce-b8a1-44c1-a3d9-f3a09f8152c7",
   "metadata": {},
   "outputs": [
    {
     "data": {
      "text/plain": [
       "Counter({tail: 98, head: 2})"
      ]
     },
     "execution_count": 2,
     "metadata": {},
     "output_type": "execute_result"
    }
   ],
   "source": [
    "from models.coin import toss\n",
    "\n",
    "N_tosses = 100\n",
    "tosses = ( toss(coin1) for _ in range(N_tosses) )\n",
    "\n",
    "from collections import Counter\n",
    "Counter( tosses )"
   ]
  }
 ],
 "metadata": {
  "kernelspec": {
   "display_name": "Python 3 (ipykernel)",
   "language": "python",
   "name": "python3"
  },
  "language_info": {
   "codemirror_mode": {
    "name": "ipython",
    "version": 3
   },
   "file_extension": ".py",
   "mimetype": "text/x-python",
   "name": "python",
   "nbconvert_exporter": "python",
   "pygments_lexer": "ipython3",
   "version": "3.10.12"
  }
 },
 "nbformat": 4,
 "nbformat_minor": 5
}
