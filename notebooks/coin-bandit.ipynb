{
 "cells": [
  {
   "cell_type": "code",
   "execution_count": 1,
   "id": "0038a487-f80a-4d3f-862e-838f13d91fea",
   "metadata": {},
   "outputs": [],
   "source": [
    "from utils.display_utils import display_summary, display_info  # for printing\n",
    "from collections import Counter  # for counting the `head` and `tail` occurrences in a list"
   ]
  },
  {
   "cell_type": "markdown",
   "id": "12a02020-69cf-41bb-8c8c-8a2e5f7740e3",
   "metadata": {},
   "source": [
    "### The arms"
   ]
  },
  {
   "cell_type": "code",
   "execution_count": 2,
   "id": "d820a291-92d3-4bfb-885a-e627a622f69c",
   "metadata": {},
   "outputs": [],
   "source": [
    "from models.coin import Coin\n",
    "\n",
    "p1 = 0.5\n",
    "p2 = 0.4\n",
    "p3 = 0.9\n",
    "\n",
    "params_set = [p1, p2, p3]\n",
    "distributions = [Coin for _ in range(len(params_set))]"
   ]
  },
  {
   "cell_type": "markdown",
   "id": "d1ff554b-e4eb-4ba0-a97e-2a9ac5d32f1d",
   "metadata": {},
   "source": [
    "### The bandit"
   ]
  },
  {
   "cell_type": "code",
   "execution_count": 3,
   "id": "6646f998-2051-405a-8fe1-23346599c87d",
   "metadata": {},
   "outputs": [
    {
     "name": "stdout",
     "output_type": "stream",
     "text": [
      "Arms history:\n",
      "Coin(p=0.5) 0 : []\n",
      "Coin(p=0.4) 1 : []\n",
      "Coin(p=0.9) 2 : [head, head, head, head, head, tail, head, head, head, head]\n",
      "Tries Remaining:  0\n",
      "=== SUMMARY of Pulls ===\n",
      "    {head: 9, tail: 1}\n",
      "=========================\n"
     ]
    }
   ],
   "source": [
    "from multiarm_bandit.bandit import Bandit, run\n",
    "N_tries = 10\n",
    "\n",
    "coin_bandit = Bandit(params_set, distributions)\n",
    "display_info(remaining_tries=N_tries)\t# !passing the WHOLE history in\n",
    "\n",
    "history = run(coin_bandit, N_tries) # runs the `Bandit` for `N_tries`\n",
    "summary = dict( Counter( history ) )# summary count of the run\n",
    "\n",
    "display_summary(summary)  # display the summary counts"
   ]
  },
  {
   "cell_type": "code",
   "execution_count": null,
   "id": "259486b6-0a4d-490a-b4b7-f01215354cb4",
   "metadata": {},
   "outputs": [],
   "source": []
  }
 ],
 "metadata": {
  "kernelspec": {
   "display_name": "Python 3 (ipykernel)",
   "language": "python",
   "name": "python3"
  },
  "language_info": {
   "codemirror_mode": {
    "name": "ipython",
    "version": 3
   },
   "file_extension": ".py",
   "mimetype": "text/x-python",
   "name": "python",
   "nbconvert_exporter": "python",
   "pygments_lexer": "ipython3",
   "version": "3.10.12"
  }
 },
 "nbformat": 4,
 "nbformat_minor": 5
}
